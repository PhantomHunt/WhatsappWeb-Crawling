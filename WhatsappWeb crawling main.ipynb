{
 "cells": [
  {
   "cell_type": "code",
   "execution_count": 6,
   "metadata": {},
   "outputs": [],
   "source": [
    "from selenium import webdriver\n",
    "from selenium.webdriver.support.ui import WebDriverWait\n",
    "from selenium.webdriver.support import expected_conditions as EC\n",
    "from selenium.webdriver.common.action_chains import ActionChains\n",
    "from selenium.webdriver.common.keys import Keys\n",
    "import pandas as pd\n",
    "from selenium.webdriver.common.by import By\n",
    "import time\n",
    "import sys"
   ]
  },
  {
   "cell_type": "code",
   "execution_count": 7,
   "metadata": {},
   "outputs": [],
   "source": [
    "#driver.execute_script(\"window.scrollBy(0,1050)\")\n",
    "    #people.location_once_scrolled_into_view#error\n",
    "    #people.scrollIntoView()#error\n",
    "    #driver.execute_script(\"window.scrollTo(0, document.body.scrollHeight)\")\n",
    "    #driver.execute_script(\"element.scrollBy(0,1080)\")#error"
   ]
  },
  {
   "cell_type": "code",
   "execution_count": 8,
   "metadata": {},
   "outputs": [
    {
     "name": "stdout",
     "output_type": "stream",
     "text": [
      "Please Check Your Internet connection and Try again\n"
     ]
    },
    {
     "ename": "WebDriverException",
     "evalue": "Message: An unknown error occurred while processing the specified command.\n",
     "output_type": "error",
     "traceback": [
      "\u001b[1;31m---------------------------------------------------------------------------\u001b[0m",
      "\u001b[1;31mWebDriverException\u001b[0m                        Traceback (most recent call last)",
      "\u001b[1;32m<ipython-input-8-fd6d65b53438>\u001b[0m in \u001b[0;36m<module>\u001b[1;34m\u001b[0m\n\u001b[0;32m     11\u001b[0m     \u001b[0mprint\u001b[0m\u001b[1;33m(\u001b[0m\u001b[1;34m\"Please Check Your Internet connection and Try again\"\u001b[0m\u001b[1;33m)\u001b[0m\u001b[1;33m\u001b[0m\u001b[1;33m\u001b[0m\u001b[0m\n\u001b[0;32m     12\u001b[0m \u001b[1;33m\u001b[0m\u001b[0m\n\u001b[1;32m---> 13\u001b[1;33m \u001b[1;32mfor\u001b[0m \u001b[0mperson\u001b[0m \u001b[1;32min\u001b[0m \u001b[0mdriver\u001b[0m\u001b[1;33m.\u001b[0m\u001b[0mfind_elements_by_class_name\u001b[0m\u001b[1;33m(\u001b[0m\u001b[1;34m'X7YrQ'\u001b[0m\u001b[1;33m)\u001b[0m\u001b[1;33m:\u001b[0m\u001b[1;33m\u001b[0m\u001b[1;33m\u001b[0m\u001b[0m\n\u001b[0m\u001b[0;32m     14\u001b[0m     \u001b[0mpeople\u001b[0m \u001b[1;33m=\u001b[0m \u001b[0mperson\u001b[0m\u001b[1;33m.\u001b[0m\u001b[0mfind_element_by_class_name\u001b[0m\u001b[1;33m(\u001b[0m\u001b[1;34m\"_19RFN\"\u001b[0m\u001b[1;33m)\u001b[0m\u001b[1;33m\u001b[0m\u001b[1;33m\u001b[0m\u001b[0m\n\u001b[0;32m     15\u001b[0m     \u001b[0mprint\u001b[0m\u001b[1;33m(\u001b[0m\u001b[1;34m\"\\n\\nNAME: \"\u001b[0m\u001b[1;33m,\u001b[0m\u001b[0mpeople\u001b[0m\u001b[1;33m.\u001b[0m\u001b[0mtext\u001b[0m\u001b[1;33m,\u001b[0m\u001b[1;34m\"\\n\"\u001b[0m\u001b[1;33m)\u001b[0m\u001b[1;33m\u001b[0m\u001b[1;33m\u001b[0m\u001b[0m\n",
      "\u001b[1;32m~\\Anaconda3\\lib\\site-packages\\selenium\\webdriver\\remote\\webdriver.py\u001b[0m in \u001b[0;36mfind_elements_by_class_name\u001b[1;34m(self, name)\u001b[0m\n\u001b[0;32m    578\u001b[0m             \u001b[0melements\u001b[0m \u001b[1;33m=\u001b[0m \u001b[0mdriver\u001b[0m\u001b[1;33m.\u001b[0m\u001b[0mfind_elements_by_class_name\u001b[0m\u001b[1;33m(\u001b[0m\u001b[1;34m'foo'\u001b[0m\u001b[1;33m)\u001b[0m\u001b[1;33m\u001b[0m\u001b[1;33m\u001b[0m\u001b[0m\n\u001b[0;32m    579\u001b[0m         \"\"\"\n\u001b[1;32m--> 580\u001b[1;33m         \u001b[1;32mreturn\u001b[0m \u001b[0mself\u001b[0m\u001b[1;33m.\u001b[0m\u001b[0mfind_elements\u001b[0m\u001b[1;33m(\u001b[0m\u001b[0mby\u001b[0m\u001b[1;33m=\u001b[0m\u001b[0mBy\u001b[0m\u001b[1;33m.\u001b[0m\u001b[0mCLASS_NAME\u001b[0m\u001b[1;33m,\u001b[0m \u001b[0mvalue\u001b[0m\u001b[1;33m=\u001b[0m\u001b[0mname\u001b[0m\u001b[1;33m)\u001b[0m\u001b[1;33m\u001b[0m\u001b[1;33m\u001b[0m\u001b[0m\n\u001b[0m\u001b[0;32m    581\u001b[0m \u001b[1;33m\u001b[0m\u001b[0m\n\u001b[0;32m    582\u001b[0m     \u001b[1;32mdef\u001b[0m \u001b[0mfind_element_by_css_selector\u001b[0m\u001b[1;33m(\u001b[0m\u001b[0mself\u001b[0m\u001b[1;33m,\u001b[0m \u001b[0mcss_selector\u001b[0m\u001b[1;33m)\u001b[0m\u001b[1;33m:\u001b[0m\u001b[1;33m\u001b[0m\u001b[1;33m\u001b[0m\u001b[0m\n",
      "\u001b[1;32m~\\Anaconda3\\lib\\site-packages\\selenium\\webdriver\\remote\\webdriver.py\u001b[0m in \u001b[0;36mfind_elements\u001b[1;34m(self, by, value)\u001b[0m\n\u001b[0;32m   1005\u001b[0m         return self.execute(Command.FIND_ELEMENTS, {\n\u001b[0;32m   1006\u001b[0m             \u001b[1;34m'using'\u001b[0m\u001b[1;33m:\u001b[0m \u001b[0mby\u001b[0m\u001b[1;33m,\u001b[0m\u001b[1;33m\u001b[0m\u001b[1;33m\u001b[0m\u001b[0m\n\u001b[1;32m-> 1007\u001b[1;33m             'value': value})['value'] or []\n\u001b[0m\u001b[0;32m   1008\u001b[0m \u001b[1;33m\u001b[0m\u001b[0m\n\u001b[0;32m   1009\u001b[0m     \u001b[1;33m@\u001b[0m\u001b[0mproperty\u001b[0m\u001b[1;33m\u001b[0m\u001b[1;33m\u001b[0m\u001b[0m\n",
      "\u001b[1;32m~\\Anaconda3\\lib\\site-packages\\selenium\\webdriver\\remote\\webdriver.py\u001b[0m in \u001b[0;36mexecute\u001b[1;34m(self, driver_command, params)\u001b[0m\n\u001b[0;32m    319\u001b[0m         \u001b[0mresponse\u001b[0m \u001b[1;33m=\u001b[0m \u001b[0mself\u001b[0m\u001b[1;33m.\u001b[0m\u001b[0mcommand_executor\u001b[0m\u001b[1;33m.\u001b[0m\u001b[0mexecute\u001b[0m\u001b[1;33m(\u001b[0m\u001b[0mdriver_command\u001b[0m\u001b[1;33m,\u001b[0m \u001b[0mparams\u001b[0m\u001b[1;33m)\u001b[0m\u001b[1;33m\u001b[0m\u001b[1;33m\u001b[0m\u001b[0m\n\u001b[0;32m    320\u001b[0m         \u001b[1;32mif\u001b[0m \u001b[0mresponse\u001b[0m\u001b[1;33m:\u001b[0m\u001b[1;33m\u001b[0m\u001b[1;33m\u001b[0m\u001b[0m\n\u001b[1;32m--> 321\u001b[1;33m             \u001b[0mself\u001b[0m\u001b[1;33m.\u001b[0m\u001b[0merror_handler\u001b[0m\u001b[1;33m.\u001b[0m\u001b[0mcheck_response\u001b[0m\u001b[1;33m(\u001b[0m\u001b[0mresponse\u001b[0m\u001b[1;33m)\u001b[0m\u001b[1;33m\u001b[0m\u001b[1;33m\u001b[0m\u001b[0m\n\u001b[0m\u001b[0;32m    322\u001b[0m             response['value'] = self._unwrap_value(\n\u001b[0;32m    323\u001b[0m                 response.get('value', None))\n",
      "\u001b[1;32m~\\Anaconda3\\lib\\site-packages\\selenium\\webdriver\\remote\\errorhandler.py\u001b[0m in \u001b[0;36mcheck_response\u001b[1;34m(self, response)\u001b[0m\n\u001b[0;32m    240\u001b[0m                 \u001b[0malert_text\u001b[0m \u001b[1;33m=\u001b[0m \u001b[0mvalue\u001b[0m\u001b[1;33m[\u001b[0m\u001b[1;34m'alert'\u001b[0m\u001b[1;33m]\u001b[0m\u001b[1;33m.\u001b[0m\u001b[0mget\u001b[0m\u001b[1;33m(\u001b[0m\u001b[1;34m'text'\u001b[0m\u001b[1;33m)\u001b[0m\u001b[1;33m\u001b[0m\u001b[1;33m\u001b[0m\u001b[0m\n\u001b[0;32m    241\u001b[0m             \u001b[1;32mraise\u001b[0m \u001b[0mexception_class\u001b[0m\u001b[1;33m(\u001b[0m\u001b[0mmessage\u001b[0m\u001b[1;33m,\u001b[0m \u001b[0mscreen\u001b[0m\u001b[1;33m,\u001b[0m \u001b[0mstacktrace\u001b[0m\u001b[1;33m,\u001b[0m \u001b[0malert_text\u001b[0m\u001b[1;33m)\u001b[0m\u001b[1;33m\u001b[0m\u001b[1;33m\u001b[0m\u001b[0m\n\u001b[1;32m--> 242\u001b[1;33m         \u001b[1;32mraise\u001b[0m \u001b[0mexception_class\u001b[0m\u001b[1;33m(\u001b[0m\u001b[0mmessage\u001b[0m\u001b[1;33m,\u001b[0m \u001b[0mscreen\u001b[0m\u001b[1;33m,\u001b[0m \u001b[0mstacktrace\u001b[0m\u001b[1;33m)\u001b[0m\u001b[1;33m\u001b[0m\u001b[1;33m\u001b[0m\u001b[0m\n\u001b[0m\u001b[0;32m    243\u001b[0m \u001b[1;33m\u001b[0m\u001b[0m\n\u001b[0;32m    244\u001b[0m     \u001b[1;32mdef\u001b[0m \u001b[0m_value_or_default\u001b[0m\u001b[1;33m(\u001b[0m\u001b[0mself\u001b[0m\u001b[1;33m,\u001b[0m \u001b[0mobj\u001b[0m\u001b[1;33m,\u001b[0m \u001b[0mkey\u001b[0m\u001b[1;33m,\u001b[0m \u001b[0mdefault\u001b[0m\u001b[1;33m)\u001b[0m\u001b[1;33m:\u001b[0m\u001b[1;33m\u001b[0m\u001b[1;33m\u001b[0m\u001b[0m\n",
      "\u001b[1;31mWebDriverException\u001b[0m: Message: An unknown error occurred while processing the specified command.\n"
     ]
    }
   ],
   "source": [
    "driver = webdriver.Edge('C:\\Windows\\System32\\MicrosoftWebDriver.exe')\n",
    "mylist=[]\n",
    "\n",
    "try:\n",
    "    driver.get(\"https://web.whatsapp.com/\")\n",
    "    wait = WebDriverWait(driver, 60)\n",
    "    xarg = '//div[@class=\"_2WP9Q\"]'\n",
    "    grouptitle = wait.until(EC.presence_of_element_located((By.XPATH, xarg)))\n",
    "    time.sleep(25)\n",
    "except:\n",
    "    print(\"Please Check Your Internet connection and Try again\")\n",
    "    \n",
    "for person in driver.find_elements_by_class_name('X7YrQ'):\n",
    "    people = person.find_element_by_class_name(\"_19RFN\")\n",
    "    print(\"\\n\\nNAME: \",people.text,\"\\n\")    \n",
    "    mylist.append(people.text)\n",
    "    people.click()\n",
    "    \n",
    "    driver.find_element_by_xpath(\"//*[@class='_1_keJ']\").send_keys(Keys.ARROW_UP) #To be fixed\n",
    "    time.sleep(60)\n",
    "    \n",
    "    #Below code not working\n",
    "    #z=driver.find_elements_by_xpath(\"//*[@class='_1_q7u']\").click()\n",
    "    #ActionChains(driver) \\\n",
    "    #            .key_down(Keys.PAGE_UP)\n",
    "    #time.sleep(30)\n",
    "    \n",
    "    x=[]\n",
    "    y=[]\n",
    "    x=driver.find_elements_by_xpath(\"//*[@class='FTBzM' or @class='FTBzM _17BiH' or @class='FTBzM _3CGDY']\")\n",
    "    y=driver.find_elements_by_xpath(\"//*[@class='selectable-text invisible-space copyable-text']\")\n",
    "    l=len(x)\n",
    "    l1=len(y)\n",
    "#For Details like time,day,media size etc...\n",
    "    \n",
    "#    counter=0\n",
    "#    for i in range(l+1):\n",
    "#        try:\n",
    "#            print(x[i].text)\n",
    "#            counter+=1\n",
    "#        except:\n",
    "#            print(\"\\n\\n\",counter,\" Chats scraped!\")            \n",
    "    counter=0\n",
    "    \n",
    "#For only chats    \n",
    "    for i in range(l1+1):\n",
    "        try:\n",
    "            print(\"->\",y[i].text)\n",
    "            time.sleep(5)\n",
    "            driver.execute_script(\"arguments[0].scrollIntoView()\",y[i]) #need fixing of scroll if key page down does not work\n",
    "            #driver.execute_script(\"arguments[0].scrollIntoView()\",x[i])\n",
    "            counter+=1\n",
    "        except:\n",
    "            print(\"\\n\\n*************\",counter,\" Chats scraped for this contact!********************\")   \n",
    "    \n",
    "    driver.execute_script(\"arguments[0].scrollIntoView()\",people )#scroll working but abnormal behaviour and only 18 names   \n",
    "    time.sleep(2)\n",
    "    \n",
    "length=len(mylist)\n",
    "\n",
    "#working code below but not needed now\n",
    "#whatsappdict={'Name':mylist}\n",
    "#wp=pd.DataFrame(whatsappdict)\n",
    "#file=open(\"D:EDUCATIONAL\\CERT-In\\Whatsapp.csv\",\"w\",encoding=\"utf-8\")\n",
    "#wp.to_csv(file, sep=',')\n",
    "#file.close()\n",
    "\n",
    "print(\"\\n\\n\",length,\" names found.\")\n"
   ]
  },
  {
   "cell_type": "code",
   "execution_count": null,
   "metadata": {},
   "outputs": [],
   "source": [
    "#***************TEST BLOCK*************************#\n",
    "driver = webdriver.Edge('C:\\Windows\\System32\\MicrosoftWebDriver.exe')\n",
    "\n",
    "driver.get(\"https://web.whatsapp.com/\")\n",
    "wait = WebDriverWait(driver, 20)\n",
    "\n",
    "xarg = '//div[@class=\"_2WP9Q\"]'\n",
    "grouptitle = wait.until(EC.presence_of_element_located((By.XPATH, xarg)))\n",
    "grouptitle.click()\n",
    "\n",
    "#z=driver.find_element_by_xpath(\"//*[@class='_1_keJ']\")\n",
    "#z.click()\n",
    "#ActionChains(driver) \\\n",
    "#    .key_down(Keys.PAGE_UP)\n",
    "\n",
    "driver.find_element_by_xpath(\"//*[@class='_1_keJ']\").send_keys(Keys.ARROW_UP)\n",
    "time.sleep(60)\n",
    "x=[]\n",
    "y=[]\n",
    "x=driver.find_elements_by_xpath(\"//*[@class='FTBzM' or @class='FTBzM _17BiH' or @class='FTBzM _3CGDY']\")\n",
    "y=driver.find_elements_by_xpath(\"//*[@class='selectable-text invisible-space copyable-text']\")\n",
    "l=len(x)\n",
    "l1=len(y)\n",
    "#print(l)\n",
    "counter=0\n",
    "for i in range(l1+1):    \n",
    "    try:\n",
    "        print(y[i].text)\n",
    "        counter+=1\n",
    "    except:\n",
    "        print(\"\\n\\n\",counter,\" Chats scraped!\")"
   ]
  },
  {
   "cell_type": "code",
   "execution_count": null,
   "metadata": {},
   "outputs": [],
   "source": []
  }
 ],
 "metadata": {
  "kernelspec": {
   "display_name": "Python 3",
   "language": "python",
   "name": "python3"
  },
  "language_info": {
   "codemirror_mode": {
    "name": "ipython",
    "version": 3
   },
   "file_extension": ".py",
   "mimetype": "text/x-python",
   "name": "python",
   "nbconvert_exporter": "python",
   "pygments_lexer": "ipython3",
   "version": "3.7.3"
  }
 },
 "nbformat": 4,
 "nbformat_minor": 2
}
